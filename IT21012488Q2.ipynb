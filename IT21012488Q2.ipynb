{
  "cells": [
    {
      "cell_type": "markdown",
      "metadata": {
        "id": "MyWFUEnRajzf"
      },
      "source": [
        "**Task 2 - Implementing LSTM for Time-Series Forecasting**\n",
        "\n",
        "\n",
        "***Read the following descriptions and instructions***\n",
        "\n",
        "Time-series forecasting is a crucial task in various fields, including finance, economics, and weather prediction. In this question, you'll work with Long Short-Term Memory (LSTM) networks, a type of recurrent neural network (RNN) that is particularly effective at learning from sequences of data. LSTMs are designed to capture long-term dependencies in time-series data, making them well-suited for predicting future values based on historical patterns.\n",
        "\n",
        "In this task, you will implement an LSTM model to forecast stock prices using historical data. Specifically, you'll use the closing prices of a stock to predict future prices, which is a common real-world application of time-series analysis in financial markets. This exercise will help you understand the principles of sequence modeling and how LSTMs can be applied to complex prediction tasks."
      ]
    },
    {
      "cell_type": "code",
      "execution_count": 1,
      "metadata": {
        "id": "vKdTBHBbadlb"
      },
      "outputs": [],
      "source": [
        "import numpy as np\n",
        "import pandas as pd\n",
        "import tensorflow as tf\n",
        "from tensorflow.keras.models import Sequential\n",
        "from tensorflow.keras.layers import LSTM, Dense, Dropout\n",
        "from sklearn.preprocessing import MinMaxScaler\n",
        "import matplotlib.pyplot as plt"
      ]
    },
    {
      "cell_type": "code",
      "execution_count": 2,
      "metadata": {},
      "outputs": [
        {
          "name": "stdout",
          "output_type": "stream",
          "text": [
            "Num GPUs Available:  0\n"
          ]
        }
      ],
      "source": [
        "print(\"Num GPUs Available: \", len(tf.config.list_physical_devices('GPU')))"
      ]
    },
    {
      "cell_type": "code",
      "execution_count": 3,
      "metadata": {
        "id": "O9Y2p8k0aq4d"
      },
      "outputs": [],
      "source": [
        "# 1. Load and Preprocess the Data\n",
        "def load_data(file_path):\n",
        "    df = pd.read_csv(file_path)\n",
        "    return df['Close'].values  # Use the 'Close' price for prediction"
      ]
    },
    {
      "cell_type": "code",
      "execution_count": 4,
      "metadata": {
        "id": "224EeqW6auK7"
      },
      "outputs": [],
      "source": [
        "# 2. Prepare the Dataset for LSTM\n",
        "def create_dataset(data, time_step=60):\n",
        "    X, y = [], []\n",
        "    for i in range(len(data) - time_step):\n",
        "        X.append(data[i:(i + time_step)])\n",
        "        y.append(data[i + time_step])\n",
        "    return np.array(X), np.array(y)"
      ]
    },
    {
      "cell_type": "code",
      "execution_count": 5,
      "metadata": {
        "id": "KaH4F3mvazKH"
      },
      "outputs": [],
      "source": [
        "# Load Data\n",
        "file_path = './data/GOOG.csv'  # Path to the dataset in Colab or Jupyter home directory\n",
        "data = load_data(file_path)"
      ]
    },
    {
      "cell_type": "code",
      "execution_count": 6,
      "metadata": {
        "id": "3SdZRCc0a51M"
      },
      "outputs": [],
      "source": [
        "# Normalize the Data\n",
        "scaler = MinMaxScaler(feature_range=(0, 1))\n",
        "data = scaler.fit_transform(data.reshape(-1, 1)).reshape(-1)"
      ]
    },
    {
      "cell_type": "markdown",
      "metadata": {
        "id": "7Khqb1qD5IsY"
      },
      "source": [
        "**time_step = 60:** This variable defines the length of the input sequence, meaning we will use the past 60 days of stock prices to predict the next day's closing price. This value is chosen to capture enough historical information to make an accurate prediction. You can change and try"
      ]
    },
    {
      "cell_type": "code",
      "execution_count": 7,
      "metadata": {
        "id": "QmXBUdova9GP"
      },
      "outputs": [],
      "source": [
        "\n",
        "# Create the Dataset\n",
        "time_step = 60  # Using 60 days of data to predict the next day's price\n",
        "X, y = create_dataset(data, time_step)"
      ]
    },
    {
      "cell_type": "code",
      "execution_count": 8,
      "metadata": {
        "id": "QMA5jpNnbA9a"
      },
      "outputs": [],
      "source": [
        "# Reshape for LSTM input [samples, time steps, features]\n",
        "X = X.reshape(X.shape[0], X.shape[1], 1)"
      ]
    },
    {
      "cell_type": "code",
      "execution_count": 9,
      "metadata": {
        "id": "ErOC_sJdbEMe"
      },
      "outputs": [],
      "source": [
        "# Split the Data into Training and Testing Sets (80% train, 20% test)\n",
        "train_size = int(len(X) * 0.8)\n",
        "X_train, X_test = X[:train_size], X[train_size:]\n",
        "y_train, y_test = y[:train_size], y[train_size:]"
      ]
    },
    {
      "cell_type": "markdown",
      "metadata": {
        "id": "kOWw9rEX5awq"
      },
      "source": [
        "***Modify the number of units in the LSTM layers and consider adding more layers or changing the dropout rate to see how these adjustments affect the model's performance***\n",
        "\n",
        "Experiment with 'units'\n",
        "\n",
        "Experiment with dropout for regularization\n",
        "\n",
        "Add another LSTM layer\n",
        "\n"
      ]
    },
    {
      "cell_type": "code",
      "execution_count": 10,
      "metadata": {
        "colab": {
          "base_uri": "https://localhost:8080/"
        },
        "id": "58PjSxibbKWV",
        "outputId": "7941b5f8-49e0-43ad-ba89-03404ad5cd77"
      },
      "outputs": [],
      "source": [
        "# 3. Define the LSTM Model\n",
        "model = Sequential()\n",
        "\n",
        "# --- Students: Modify the number of LSTM layers and units to experiment with model complexity ---\n",
        "# Increase the number of units to 100\n",
        "model.add(LSTM(units=100, return_sequences=True, input_shape=(time_step, 1)))  # <-- Experiment with 'units' \n",
        "model.add(Dropout(0.2))  # Experiment with dropout for regularization\n",
        "\n",
        "# Add another LSTM layer\n",
        "model.add(LSTM(units=50, return_sequences=True))\n",
        "Dropout(0.2)\n",
        "\n",
        "model.add(LSTM(units=50, return_sequences=False))  # <-- Add another LSTM layer\n",
        "model.add(Dropout(0.2))\n",
        "\n",
        "model.add(Dense(1))\n",
        "\n",
        "model.compile(optimizer='adam', loss='mean_absolute_error')"
      ]
    },
    {
      "cell_type": "markdown",
      "metadata": {
        "id": "GxH3rJwb6EIp"
      },
      "source": [
        "***Adjust the epochs and batch_size during the training phase to optimize the model’s learning process and its ability to generalize.***"
      ]
    },
    {
      "cell_type": "code",
      "execution_count": 11,
      "metadata": {
        "colab": {
          "base_uri": "https://localhost:8080/"
        },
        "id": "kAVwfLj7bTcL",
        "outputId": "622ae41a-56ea-42e2-9a7e-53e366e2f659"
      },
      "outputs": [
        {
          "name": "stdout",
          "output_type": "stream",
          "text": [
            "Epoch 1/100\n",
            "5/5 [==============================] - 12s 174ms/step - loss: 0.3204\n",
            "Epoch 2/100\n",
            "5/5 [==============================] - 1s 177ms/step - loss: 0.1583\n",
            "Epoch 3/100\n",
            "5/5 [==============================] - 1s 196ms/step - loss: 0.1309\n",
            "Epoch 4/100\n",
            "5/5 [==============================] - 1s 197ms/step - loss: 0.1238\n",
            "Epoch 5/100\n",
            "5/5 [==============================] - 2s 329ms/step - loss: 0.1063\n",
            "Epoch 6/100\n",
            "5/5 [==============================] - 2s 348ms/step - loss: 0.1107\n",
            "Epoch 7/100\n",
            "5/5 [==============================] - 1s 286ms/step - loss: 0.1157\n",
            "Epoch 8/100\n",
            "5/5 [==============================] - 2s 264ms/step - loss: 0.1017\n",
            "Epoch 9/100\n",
            "5/5 [==============================] - 1s 162ms/step - loss: 0.1062\n",
            "Epoch 10/100\n",
            "5/5 [==============================] - 1s 123ms/step - loss: 0.1053\n",
            "Epoch 11/100\n",
            "5/5 [==============================] - 1s 103ms/step - loss: 0.0994\n",
            "Epoch 12/100\n",
            "5/5 [==============================] - 1s 102ms/step - loss: 0.1114\n",
            "Epoch 13/100\n",
            "5/5 [==============================] - 1s 116ms/step - loss: 0.1055\n",
            "Epoch 14/100\n",
            "5/5 [==============================] - 1s 153ms/step - loss: 0.1047\n",
            "Epoch 15/100\n",
            "5/5 [==============================] - 1s 166ms/step - loss: 0.1018\n",
            "Epoch 16/100\n",
            "5/5 [==============================] - 1s 152ms/step - loss: 0.1028\n",
            "Epoch 17/100\n",
            "5/5 [==============================] - 1s 268ms/step - loss: 0.1127\n",
            "Epoch 18/100\n",
            "5/5 [==============================] - 4s 990ms/step - loss: 0.1084\n",
            "Epoch 19/100\n",
            "5/5 [==============================] - 2s 372ms/step - loss: 0.1011\n",
            "Epoch 20/100\n",
            "5/5 [==============================] - 2s 417ms/step - loss: 0.1001\n",
            "Epoch 21/100\n",
            "5/5 [==============================] - 2s 296ms/step - loss: 0.0975\n",
            "Epoch 22/100\n",
            "5/5 [==============================] - 3s 580ms/step - loss: 0.0945\n",
            "Epoch 23/100\n",
            "5/5 [==============================] - 1s 196ms/step - loss: 0.0971\n",
            "Epoch 24/100\n",
            "5/5 [==============================] - 3s 607ms/step - loss: 0.0948\n",
            "Epoch 25/100\n",
            "5/5 [==============================] - 2s 444ms/step - loss: 0.0952\n",
            "Epoch 26/100\n",
            "5/5 [==============================] - 2s 209ms/step - loss: 0.0951\n",
            "Epoch 27/100\n",
            "5/5 [==============================] - 3s 645ms/step - loss: 0.0956\n",
            "Epoch 28/100\n",
            "5/5 [==============================] - 1s 204ms/step - loss: 0.0892\n",
            "Epoch 29/100\n",
            "5/5 [==============================] - 1s 123ms/step - loss: 0.0882\n",
            "Epoch 30/100\n",
            "5/5 [==============================] - 1s 306ms/step - loss: 0.0923\n",
            "Epoch 31/100\n",
            "5/5 [==============================] - 1s 271ms/step - loss: 0.1000\n",
            "Epoch 32/100\n",
            "5/5 [==============================] - 3s 548ms/step - loss: 0.0963\n",
            "Epoch 33/100\n",
            "5/5 [==============================] - 1s 262ms/step - loss: 0.0988\n",
            "Epoch 34/100\n",
            "5/5 [==============================] - 1s 100ms/step - loss: 0.1054\n",
            "Epoch 35/100\n",
            "5/5 [==============================] - 0s 83ms/step - loss: 0.0925\n",
            "Epoch 36/100\n",
            "5/5 [==============================] - 0s 88ms/step - loss: 0.0901\n",
            "Epoch 37/100\n",
            "5/5 [==============================] - 0s 84ms/step - loss: 0.0885\n",
            "Epoch 38/100\n",
            "5/5 [==============================] - 1s 169ms/step - loss: 0.0834\n",
            "Epoch 39/100\n",
            "5/5 [==============================] - 1s 139ms/step - loss: 0.0868\n",
            "Epoch 40/100\n",
            "5/5 [==============================] - 1s 218ms/step - loss: 0.0910\n",
            "Epoch 41/100\n",
            "5/5 [==============================] - 1s 187ms/step - loss: 0.0931\n",
            "Epoch 42/100\n",
            "5/5 [==============================] - 1s 133ms/step - loss: 0.0891\n",
            "Epoch 43/100\n",
            "5/5 [==============================] - 0s 90ms/step - loss: 0.0857\n",
            "Epoch 44/100\n",
            "5/5 [==============================] - 0s 85ms/step - loss: 0.0897\n",
            "Epoch 45/100\n",
            "5/5 [==============================] - 1s 126ms/step - loss: 0.0930\n",
            "Epoch 46/100\n",
            "5/5 [==============================] - 1s 112ms/step - loss: 0.0893\n",
            "Epoch 47/100\n",
            "5/5 [==============================] - 1s 153ms/step - loss: 0.0907\n",
            "Epoch 48/100\n",
            "5/5 [==============================] - 1s 145ms/step - loss: 0.0907\n",
            "Epoch 49/100\n",
            "5/5 [==============================] - 1s 151ms/step - loss: 0.0888\n",
            "Epoch 50/100\n",
            "5/5 [==============================] - 1s 218ms/step - loss: 0.0909\n",
            "Epoch 51/100\n",
            "5/5 [==============================] - 1s 156ms/step - loss: 0.0891\n",
            "Epoch 52/100\n",
            "5/5 [==============================] - 0s 85ms/step - loss: 0.1017\n",
            "Epoch 53/100\n",
            "5/5 [==============================] - 1s 117ms/step - loss: 0.0987\n",
            "Epoch 54/100\n",
            "5/5 [==============================] - 1s 177ms/step - loss: 0.0926\n",
            "Epoch 55/100\n",
            "5/5 [==============================] - 1s 180ms/step - loss: 0.1011\n",
            "Epoch 56/100\n",
            "5/5 [==============================] - 1s 160ms/step - loss: 0.0918\n",
            "Epoch 57/100\n",
            "5/5 [==============================] - 1s 213ms/step - loss: 0.0862\n",
            "Epoch 58/100\n",
            "5/5 [==============================] - 1s 106ms/step - loss: 0.0840\n",
            "Epoch 59/100\n",
            "5/5 [==============================] - 0s 95ms/step - loss: 0.0893\n",
            "Epoch 60/100\n",
            "5/5 [==============================] - 0s 86ms/step - loss: 0.0837\n",
            "Epoch 61/100\n",
            "5/5 [==============================] - 0s 89ms/step - loss: 0.0892\n",
            "Epoch 62/100\n",
            "5/5 [==============================] - 0s 84ms/step - loss: 0.0887\n",
            "Epoch 63/100\n",
            "5/5 [==============================] - 0s 99ms/step - loss: 0.0824\n",
            "Epoch 64/100\n",
            "5/5 [==============================] - 0s 80ms/step - loss: 0.0811\n",
            "Epoch 65/100\n",
            "5/5 [==============================] - 0s 85ms/step - loss: 0.0778\n",
            "Epoch 66/100\n",
            "5/5 [==============================] - 0s 81ms/step - loss: 0.0827\n",
            "Epoch 67/100\n",
            "5/5 [==============================] - 0s 81ms/step - loss: 0.0855\n",
            "Epoch 68/100\n",
            "5/5 [==============================] - 0s 79ms/step - loss: 0.0856\n",
            "Epoch 69/100\n",
            "5/5 [==============================] - 0s 80ms/step - loss: 0.0938\n",
            "Epoch 70/100\n",
            "5/5 [==============================] - 1s 212ms/step - loss: 0.0836\n",
            "Epoch 71/100\n",
            "5/5 [==============================] - 1s 108ms/step - loss: 0.0862\n",
            "Epoch 72/100\n",
            "5/5 [==============================] - 1s 240ms/step - loss: 0.0859\n",
            "Epoch 73/100\n",
            "5/5 [==============================] - 1s 132ms/step - loss: 0.0903\n",
            "Epoch 74/100\n",
            "5/5 [==============================] - 1s 186ms/step - loss: 0.0811\n",
            "Epoch 75/100\n",
            "5/5 [==============================] - 1s 206ms/step - loss: 0.0810\n",
            "Epoch 76/100\n",
            "5/5 [==============================] - 0s 88ms/step - loss: 0.0862\n",
            "Epoch 77/100\n",
            "5/5 [==============================] - 1s 109ms/step - loss: 0.0813\n",
            "Epoch 78/100\n",
            "5/5 [==============================] - 1s 138ms/step - loss: 0.0792\n",
            "Epoch 79/100\n",
            "5/5 [==============================] - 0s 94ms/step - loss: 0.0874\n",
            "Epoch 80/100\n",
            "5/5 [==============================] - 1s 122ms/step - loss: 0.0795\n",
            "Epoch 81/100\n",
            "5/5 [==============================] - 1s 128ms/step - loss: 0.0844\n",
            "Epoch 82/100\n",
            "5/5 [==============================] - 0s 86ms/step - loss: 0.0817\n",
            "Epoch 83/100\n",
            "5/5 [==============================] - 1s 174ms/step - loss: 0.0803\n",
            "Epoch 84/100\n",
            "5/5 [==============================] - 1s 156ms/step - loss: 0.0794\n",
            "Epoch 85/100\n",
            "5/5 [==============================] - 0s 89ms/step - loss: 0.0857\n",
            "Epoch 86/100\n",
            "5/5 [==============================] - 0s 87ms/step - loss: 0.0847\n",
            "Epoch 87/100\n",
            "5/5 [==============================] - 1s 134ms/step - loss: 0.0823\n",
            "Epoch 88/100\n",
            "5/5 [==============================] - 0s 81ms/step - loss: 0.0809\n",
            "Epoch 89/100\n",
            "5/5 [==============================] - 0s 84ms/step - loss: 0.0835\n",
            "Epoch 90/100\n",
            "5/5 [==============================] - 0s 99ms/step - loss: 0.0848\n",
            "Epoch 91/100\n",
            "5/5 [==============================] - 1s 191ms/step - loss: 0.0900\n",
            "Epoch 92/100\n",
            "5/5 [==============================] - 1s 180ms/step - loss: 0.0795\n",
            "Epoch 93/100\n",
            "5/5 [==============================] - 0s 81ms/step - loss: 0.0797\n",
            "Epoch 94/100\n",
            "5/5 [==============================] - 0s 86ms/step - loss: 0.0792\n",
            "Epoch 95/100\n",
            "5/5 [==============================] - 0s 99ms/step - loss: 0.0754\n",
            "Epoch 96/100\n",
            "5/5 [==============================] - 0s 85ms/step - loss: 0.0808\n",
            "Epoch 97/100\n",
            "5/5 [==============================] - 0s 93ms/step - loss: 0.0795\n",
            "Epoch 98/100\n",
            "5/5 [==============================] - 1s 117ms/step - loss: 0.0913\n",
            "Epoch 99/100\n",
            "5/5 [==============================] - 1s 198ms/step - loss: 0.0942\n",
            "Epoch 100/100\n",
            "5/5 [==============================] - 1s 89ms/step - loss: 0.0851\n"
          ]
        },
        {
          "data": {
            "text/plain": [
              "<keras.callbacks.History at 0x1b03b7cfe20>"
            ]
          },
          "execution_count": 11,
          "metadata": {},
          "output_type": "execute_result"
        }
      ],
      "source": [
        "# 4. Train the Model\n",
        "\n",
        "model.fit(X_train, y_train, epochs=100, batch_size=32, verbose=1)  # <-- Experiment with 'epochs' and 'batch_size'"
      ]
    },
    {
      "cell_type": "code",
      "execution_count": 12,
      "metadata": {
        "colab": {
          "base_uri": "https://localhost:8080/"
        },
        "id": "n4BCFz26bYVn",
        "outputId": "5d4ae88f-3dbf-4c31-95c2-62572de0b0bd"
      },
      "outputs": [
        {
          "name": "stdout",
          "output_type": "stream",
          "text": [
            "2/2 [==============================] - 3s 45ms/step\n"
          ]
        }
      ],
      "source": [
        "# 5. Predict on the Test Data\n",
        "y_pred = model.predict(X_test)"
      ]
    },
    {
      "cell_type": "code",
      "execution_count": 13,
      "metadata": {
        "id": "m434kbHBbcob"
      },
      "outputs": [],
      "source": [
        "# Inverse transform to get the original scale\n",
        "y_pred = scaler.inverse_transform(y_pred.reshape(-1, 1)).reshape(-1)\n",
        "y_test = scaler.inverse_transform(y_test.reshape(-1, 1)).reshape(-1)"
      ]
    },
    {
      "cell_type": "markdown",
      "metadata": {
        "id": "gLyRbsMZ6Q_F"
      },
      "source": [
        "***Analyze the plot to evaluate the model performance. Consider modifying the model architecture or training parameters to improve accuracy***"
      ]
    },
    {
      "cell_type": "code",
      "execution_count": 14,
      "metadata": {
        "colab": {
          "base_uri": "https://localhost:8080/",
          "height": 529
        },
        "id": "1maQ_edkbfqc",
        "outputId": "298d5330-66c6-4a01-8b85-50a165ff4056"
      },
      "outputs": [
        {
          "data": {
            "image/png": "[encoded data removed]",
            "text/plain": [
              "<Figure size 1200x600 with 1 Axes>"
            ]
          },
          "metadata": {},
          "output_type": "display_data"
        }
      ],
      "source": [
        "# 6. Plot the Results\n",
        "plt.figure(figsize=(12, 6))\n",
        "plt.plot(y_test, label='Actual')\n",
        "plt.plot(y_pred, label='Predicted')\n",
        "plt.xlabel('Time Steps')\n",
        "plt.ylabel('Stock Price')\n",
        "plt.title('LSTM Stock Price Prediction')\n",
        "plt.legend()\n",
        "plt.show()\n",
        "\n"
      ]
    },
    {
      "cell_type": "markdown",
      "metadata": {
        "id": "PGvJoaLY6eWe"
      },
      "source": [
        "***Answer the following questions. (You can type answers in a text cell)***\n",
        "1.\tWhat is the purpose of normalizing the 'Close' prices before feeding them into the LSTM model?\n",
        "2.\tWhat is the purpose of the Dropout layer in the LSTM model?\n",
        "3.\tIn the plot showing actual vs predicted stock prices, what does it indicate if the predicted line closely follows the actual line?\n"
      ]
    },
    {
      "cell_type": "markdown",
      "metadata": {},
      "source": [
        "1. By scaling the values to a range between 0 and 1, ensures that all input features are on a consistent scale. This normalization process significantly improves the neural network's ability to learn effectively and converge faster during training. It also helps prevent numerical instability issues that can arise when dealing with very large or very small numbers in computations. Moreover, normalized data often leads to better overall performance of the model, as it allows the optimization process to work more efficiently across all features.\n",
        "\n",
        "2.  Its primary purpose is to prevent overfitting, which occurs when a model learns the training data too well, including its noise and peculiarities, at the expense of generalizing to new, unseen data. Dropout achieves this by randomly \"dropping out\" or deactivating a specified fraction of neurons during each training iteration. This process creates a form of model ensembling effect, as it essentially trains many different \"thinned\" versions of the network, which are then combined at test time. By doing so, Dropout reduces the model's reliance on any specific set of features, forcing it to learn more robust and generalized representations of the data.\n",
        "\n",
        "3. Tt suggests that the model has successfully learned to predict stock prices with a high degree of accuracy, capturing both short-term fluctuations and long-term trends in the price movements. This close alignment indicates that the model has effectively generalized from the training data to make accurate predictions on the unseen test data, which is a crucial aspect of any predictive model's performance."
      ]
    },
    {
      "cell_type": "markdown",
      "metadata": {},
      "source": []
    },
    {
      "cell_type": "markdown",
      "metadata": {},
      "source": []
    }
  ],
  "metadata": {
    "colab": {
      "provenance": []
    },
    "kernelspec": {
      "display_name": "Python 3",
      "name": "python3"
    },
    "language_info": {
      "codemirror_mode": {
        "name": "ipython",
        "version": 3
      },
      "file_extension": ".py",
      "mimetype": "text/x-python",
      "name": "python",
      "nbconvert_exporter": "python",
      "pygments_lexer": "ipython3",
      "version": "3.10.13"
    }
  },
  "nbformat": 4,
  "nbformat_minor": 0
}
